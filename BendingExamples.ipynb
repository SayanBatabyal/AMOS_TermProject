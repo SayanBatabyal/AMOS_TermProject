{
 "cells": [
  {
   "cell_type": "markdown",
   "metadata": {},
   "source": [
    "## Simply supported beam under uniformly distributed loading\n",
    "\n",
    "Consider a simply supported beam of length, L under the action of uniformly distributed loading $q$ in the downward direction.\n",
    "\n",
    "\n",
    "The *Governing Differential Equations* are-\n",
    "\\begin{equation}\n",
    "    EI\\frac{d^3 \\phi}{dx^3} = q \\\\\n",
    "    \\frac{dw}{dx} = \\phi - \\frac{EI}{GAK} \\frac{d^2 \\phi}{dx^2}\n",
    "\\end{equation}\n",
    "\n",
    "The *Boundary Conditions* are-\n",
    "\n",
    "At $x=0$ and $x=L$, $w=0$ and $M_x=0$.\n",
    "       \n",
    "<br>\n",
    "Also we know, $M_x = EI\\frac{d\\phi}{dx}$. So, we can say that at $x=0$ and $x=L$, $\\frac{d \\phi}{dx}=0$."
   ]
  },
  {
   "cell_type": "code",
   "execution_count": 1,
   "metadata": {},
   "outputs": [],
   "source": [
    "import sympy as sp\n",
    "from IPython.display import Math\n",
    "\n",
    "E, I, q, G, A, K, L = sp.symbols('E I q G A kappa L')\n",
    "x = sp.Symbol('x')\n",
    "w = sp.Function('w')(x)\n",
    "phi = sp.Function('phi')(x)"
   ]
  },
  {
   "cell_type": "code",
   "execution_count": 2,
   "metadata": {},
   "outputs": [
    {
     "data": {
      "text/latex": [
       "$\\displaystyle  E I \\frac{d^{3}}{d x^{3}} \\phi{\\left(x \\right)} = q$"
      ],
      "text/plain": [
       "<IPython.core.display.Math object>"
      ]
     },
     "metadata": {},
     "output_type": "display_data"
    },
    {
     "data": {
      "text/latex": [
       "$\\displaystyle  \\frac{d}{d x} w{\\left(x \\right)} = \\phi{\\left(x \\right)} - \\frac{E I \\frac{d^{2}}{d x^{2}} \\phi{\\left(x \\right)}}{A G \\kappa}$"
      ],
      "text/plain": [
       "<IPython.core.display.Math object>"
      ]
     },
     "metadata": {},
     "output_type": "display_data"
    }
   ],
   "source": [
    "gde1 = sp.Eq(E*I*sp.diff(phi,x,3),q)\n",
    "gde2 = sp.Eq(sp.diff(w,x),phi-(E*I/G/A/K)*sp.diff(phi,x,2))\n",
    "\n",
    "display(Math(r' {}'.format(sp.latex(gde1))))\n",
    "display(Math(r' {}'.format(sp.latex(gde2))))"
   ]
  },
  {
   "cell_type": "markdown",
   "metadata": {},
   "source": [
    "Solving the above 2 differential equations, we find the solution for w and $\\phi$ in terms of arbitrary constants $C_1, \\: C_2, \\: C_3 \\: and \\: C_4$."
   ]
  },
  {
   "cell_type": "code",
   "execution_count": 3,
   "metadata": {},
   "outputs": [
    {
     "data": {
      "text/latex": [
       "$\\displaystyle \\phi(x) = C_{1} + C_{2} x + C_{3} x^{2} + \\frac{q x^{3}}{6 E I}$"
      ],
      "text/plain": [
       "<IPython.core.display.Math object>"
      ]
     },
     "metadata": {},
     "output_type": "display_data"
    }
   ],
   "source": [
    "phi_sol = sp.dsolve(gde1,phi).rhs\n",
    "\n",
    "display(Math(r'\\phi(x) = {}'.format(sp.latex(phi_sol))))"
   ]
  },
  {
   "cell_type": "code",
   "execution_count": 4,
   "metadata": {},
   "outputs": [
    {
     "data": {
      "text/latex": [
       "$\\displaystyle \\frac{d}{d x} w{\\left(x \\right)} = C_{1} + C_{2} x + C_{3} x^{2} + \\frac{q x^{3}}{6 E I} - \\frac{E I \\left(2 C_{3} + \\frac{q x}{E I}\\right)}{A G \\kappa}$"
      ],
      "text/plain": [
       "Eq(Derivative(w(x), x), C_1 + C_2*x + C_3*x**2 + q*x**3/(6*E*I) - E*I*(2*C_3 + q*x/(E*I))/(A*G*kappa))"
      ]
     },
     "execution_count": 4,
     "metadata": {},
     "output_type": "execute_result"
    }
   ],
   "source": [
    "C1, C2, C3, C4 = sp.symbols('C_1 C_2 C_3 C_4')\n",
    "\n",
    "phi_sol = C1 + C2*x + C3*x**2 + q*x**3/(6*E*I)\n",
    "\n",
    "gde2_mod = sp.Eq(gde2.lhs,gde2.rhs.subs(phi,phi_sol).doit())\n",
    "\n",
    "gde2_mod"
   ]
  },
  {
   "cell_type": "code",
   "execution_count": 5,
   "metadata": {},
   "outputs": [
    {
     "data": {
      "text/latex": [
       "$\\displaystyle w(x) = C_{1} x + \\frac{C_{2} x^{2}}{2} + \\frac{C_{3} x^{3}}{3} + C_{4} + \\frac{q x^{4}}{24 E I} - \\frac{2 C_{3} E I x}{A G \\kappa} - \\frac{q x^{2}}{2 A G \\kappa}$"
      ],
      "text/plain": [
       "<IPython.core.display.Math object>"
      ]
     },
     "metadata": {},
     "output_type": "display_data"
    }
   ],
   "source": [
    "w_sol = C1*x + C2/2*x**2 + C3/3*x**3 + q*x**4/(24*E*I) - 2*C3*E*I*x/(G*A*K) - q*x**2/(2*G*A*K) + C4\n",
    "\n",
    "display(Math(r'w(x) = {}'.format(sp.latex(w_sol))))"
   ]
  },
  {
   "cell_type": "markdown",
   "metadata": {},
   "source": [
    "We will now use the boundary conditions to find values of the arbitrary constants.\n",
    "\n",
    "**Boundary Condition 1**: At $x=0$, $w=0$."
   ]
  },
  {
   "cell_type": "code",
   "execution_count": 6,
   "metadata": {},
   "outputs": [
    {
     "data": {
      "text/latex": [
       "$\\displaystyle C_{4} = 0$"
      ],
      "text/plain": [
       "<IPython.core.display.Math object>"
      ]
     },
     "metadata": {},
     "output_type": "display_data"
    }
   ],
   "source": [
    "bc1 = sp.Eq(w_sol.subs(x,0),0)\n",
    "\n",
    "display(Math(r'{}'.format(sp.latex(bc1))))"
   ]
  },
  {
   "cell_type": "code",
   "execution_count": 7,
   "metadata": {},
   "outputs": [
    {
     "data": {
      "text/latex": [
       "$\\displaystyle w(x) = C_{1} x + \\frac{C_{2} x^{2}}{2} + \\frac{C_{3} x^{3}}{3} + \\frac{q x^{4}}{24 E I} - \\frac{2 C_{3} E I x}{A G \\kappa} - \\frac{q x^{2}}{2 A G \\kappa}$"
      ],
      "text/plain": [
       "<IPython.core.display.Math object>"
      ]
     },
     "metadata": {},
     "output_type": "display_data"
    }
   ],
   "source": [
    "w_sol = w_sol.subs(C4,0)\n",
    "\n",
    "display(Math(r'w(x) = {}'.format(sp.latex(w_sol))))"
   ]
  },
  {
   "cell_type": "markdown",
   "metadata": {},
   "source": [
    "**Boundary Condition 2**: At $x=0$, $\\frac{d \\phi}{dx}=0$."
   ]
  },
  {
   "cell_type": "code",
   "execution_count": 8,
   "metadata": {},
   "outputs": [
    {
     "data": {
      "text/latex": [
       "$\\displaystyle C_{2} = 0$"
      ],
      "text/plain": [
       "<IPython.core.display.Math object>"
      ]
     },
     "metadata": {},
     "output_type": "display_data"
    }
   ],
   "source": [
    "bc2 = sp.Eq(sp.diff(phi_sol,x).subs(x,0),0)\n",
    "\n",
    "display(Math(r'{}'.format(sp.latex(bc2))))"
   ]
  },
  {
   "cell_type": "code",
   "execution_count": 9,
   "metadata": {},
   "outputs": [
    {
     "data": {
      "text/latex": [
       "$\\displaystyle \\phi(x) = C_{1} + C_{3} x^{2} + \\frac{q x^{3}}{6 E I}$"
      ],
      "text/plain": [
       "<IPython.core.display.Math object>"
      ]
     },
     "metadata": {},
     "output_type": "display_data"
    },
    {
     "data": {
      "text/latex": [
       "$\\displaystyle w(x) = C_{1} x + \\frac{C_{3} x^{3}}{3} + \\frac{q x^{4}}{24 E I} - \\frac{2 C_{3} E I x}{A G \\kappa} - \\frac{q x^{2}}{2 A G \\kappa}$"
      ],
      "text/plain": [
       "<IPython.core.display.Math object>"
      ]
     },
     "metadata": {},
     "output_type": "display_data"
    }
   ],
   "source": [
    "phi_sol = phi_sol.subs(C2,0)\n",
    "w_sol   = w_sol.subs(C2,0)\n",
    "\n",
    "display(Math(r'\\phi(x) = {}'.format(sp.latex(phi_sol))))\n",
    "display(Math(r'w(x) = {}'.format(sp.latex(w_sol))))"
   ]
  },
  {
   "cell_type": "markdown",
   "metadata": {},
   "source": [
    "**Boundary Condition 3**: At $x=L$, $w=0$."
   ]
  },
  {
   "cell_type": "code",
   "execution_count": 10,
   "metadata": {},
   "outputs": [
    {
     "data": {
      "text/latex": [
       "$\\displaystyle C_{1} L + \\frac{C_{3} L^{3}}{3} + \\frac{L^{4} q}{24 E I} - \\frac{2 C_{3} E I L}{A G \\kappa} - \\frac{L^{2} q}{2 A G \\kappa} = 0$"
      ],
      "text/plain": [
       "<IPython.core.display.Math object>"
      ]
     },
     "metadata": {},
     "output_type": "display_data"
    }
   ],
   "source": [
    "bc3 = sp.Eq(w_sol.subs(x,L),0)\n",
    "\n",
    "display(Math(r'{}'.format(sp.latex(bc3))))"
   ]
  },
  {
   "cell_type": "markdown",
   "metadata": {},
   "source": [
    "**Boundary Condition 4**: At $x=L$, $\\frac{d \\phi}{dx}=0$."
   ]
  },
  {
   "cell_type": "code",
   "execution_count": 11,
   "metadata": {},
   "outputs": [
    {
     "data": {
      "text/latex": [
       "$\\displaystyle 2 C_{3} L + \\frac{L^{2} q}{2 E I} = 0$"
      ],
      "text/plain": [
       "<IPython.core.display.Math object>"
      ]
     },
     "metadata": {},
     "output_type": "display_data"
    }
   ],
   "source": [
    "bc4 = sp.Eq(sp.diff(phi_sol,x).subs(x,L),0)\n",
    "\n",
    "display(Math(r'{}'.format(sp.latex(bc4))))"
   ]
  },
  {
   "cell_type": "code",
   "execution_count": 12,
   "metadata": {},
   "outputs": [
    {
     "data": {
      "text/latex": [
       "$\\displaystyle C_3 = - \\frac{L q}{4 E I}$"
      ],
      "text/plain": [
       "<IPython.core.display.Math object>"
      ]
     },
     "metadata": {},
     "output_type": "display_data"
    }
   ],
   "source": [
    "C3_sol = sp.solve(bc4,C3)[0]\n",
    "\n",
    "display(Math(r'C_3 = {}'.format(sp.latex(C3_sol))))"
   ]
  },
  {
   "cell_type": "code",
   "execution_count": 13,
   "metadata": {},
   "outputs": [
    {
     "data": {
      "text/latex": [
       "$\\displaystyle C_{1} L - \\frac{L^{4} q}{24 E I} = 0$"
      ],
      "text/plain": [
       "<IPython.core.display.Math object>"
      ]
     },
     "metadata": {},
     "output_type": "display_data"
    }
   ],
   "source": [
    "bc3_simp = bc3.subs(C3,C3_sol).simplify()\n",
    "\n",
    "display(Math(r'{}'.format(sp.latex(bc3_simp))))"
   ]
  },
  {
   "cell_type": "code",
   "execution_count": 14,
   "metadata": {},
   "outputs": [
    {
     "data": {
      "text/latex": [
       "$\\displaystyle C_1 = \\frac{L^{3} q}{24 E I}$"
      ],
      "text/plain": [
       "<IPython.core.display.Math object>"
      ]
     },
     "metadata": {},
     "output_type": "display_data"
    }
   ],
   "source": [
    "C1_sol = sp.solve(bc3_simp,C1)[0]\n",
    "\n",
    "display(Math(r'C_1 = {}'.format(sp.latex(C1_sol))))"
   ]
  },
  {
   "cell_type": "markdown",
   "metadata": {},
   "source": [
    "Substituting the value of the constants, we find the value of w(x) and $\\phi(x)$."
   ]
  },
  {
   "cell_type": "code",
   "execution_count": 15,
   "metadata": {},
   "outputs": [
    {
     "data": {
      "text/latex": [
       "$\\displaystyle \\phi(x) = \\frac{L^{3} q}{24 E I} - \\frac{L q x^{2}}{4 E I} + \\frac{q x^{3}}{6 E I}$"
      ],
      "text/plain": [
       "<IPython.core.display.Math object>"
      ]
     },
     "metadata": {},
     "output_type": "display_data"
    },
    {
     "data": {
      "text/latex": [
       "$\\displaystyle w(x) = \\frac{L^{3} q x}{24 E I} - \\frac{L q x^{3}}{12 E I} + \\frac{q x^{4}}{24 E I} + \\frac{L q x}{2 A G \\kappa} - \\frac{q x^{2}}{2 A G \\kappa}$"
      ],
      "text/plain": [
       "<IPython.core.display.Math object>"
      ]
     },
     "metadata": {},
     "output_type": "display_data"
    }
   ],
   "source": [
    "phi_sol = phi_sol.subs([(C1,C1_sol),(C2,0),(C3,C3_sol),(C4,0)])\n",
    "w_sol = w_sol.subs([(C1,C1_sol),(C2,0),(C3,C3_sol),(C4,0)])\n",
    "\n",
    "display(Math(r'\\phi(x) = {}'.format(sp.latex(phi_sol))))\n",
    "display(Math(r'w(x) = {}'.format(sp.latex(w_sol))))"
   ]
  },
  {
   "cell_type": "markdown",
   "metadata": {},
   "source": [
    "Thus, we found out the deflection of the *Timoshenko beam* under uniform loading.\n",
    "\n",
    "\\begin{equation}\n",
    "    w(x) = \\frac{qxL^3}{24EI} \\left( 1 - 2(\\frac{x}{L})^2 + (\\frac{x}{L})^3 \\right) + \\frac{qxL}{2GA \\kappa}\\left(1 - \\frac{x}{L}\\right)\n",
    "\\end{equation}\n",
    "\n",
    "We can compare with the *Euler-Bernoulli beam* theory."
   ]
  },
  {
   "cell_type": "code",
   "execution_count": 19,
   "metadata": {},
   "outputs": [
    {
     "name": "stdout",
     "output_type": "stream",
     "text": [
      "Error = 96.87%\n"
     ]
    }
   ],
   "source": [
    "import numpy as np\n",
    "import matplotlib.pyplot as plt\n",
    "\n",
    "q = 1\n",
    "EI= 1/12\n",
    "GAK=1/2\n",
    "\n",
    "x = np.linspace(0,1,100)\n",
    "\n",
    "w_timo = -q/(24*EI)*x*(1-2*x**2+x**3) - q*x/(2*GAK)*(1-x)\n",
    "w_ebt  = -q/24*x*(1-2*x**2+x**3)\n",
    "\n",
    "error = (np.sum(w_timo)-np.sum(w_ebt))/np.sum(w_timo) * 100;\n",
    "print('Error = {0:.2f}%'.format(error))"
   ]
  },
  {
   "cell_type": "code",
   "execution_count": 17,
   "metadata": {},
   "outputs": [
    {
     "data": {
      "image/png": "[encoded data removed]",
      "text/plain": [
       "<Figure size 432x288 with 1 Axes>"
      ]
     },
     "metadata": {
      "needs_background": "light"
     },
     "output_type": "display_data"
    }
   ],
   "source": [
    "plt.plot(x,w_timo,'r',label='Timoshenko beam')\n",
    "plt.plot(x,w_ebt,'g',label='Euler-Bernoulli beam')\n",
    "plt.xlabel('x/L')\n",
    "plt.ylabel('w(x)')\n",
    "plt.xlim(0,1)\n",
    "plt.ylim(-0.15,0)\n",
    "plt.legend(loc='best')\n",
    "plt.show()"
   ]
  },
  {
   "cell_type": "markdown",
   "metadata": {},
   "source": [
    "Simlarly, we can work for other problems by changing the boundary conditions acordingly."
   ]
  }
 ],
 "metadata": {
  "kernelspec": {
   "display_name": "Python 3",
   "language": "python",
   "name": "python3"
  },
  "language_info": {
   "codemirror_mode": {
    "name": "ipython",
    "version": 3
   },
   "file_extension": ".py",
   "mimetype": "text/x-python",
   "name": "python",
   "nbconvert_exporter": "python",
   "pygments_lexer": "ipython3",
   "version": "3.7.4"
  }
 },
 "nbformat": 4,
 "nbformat_minor": 2
}
