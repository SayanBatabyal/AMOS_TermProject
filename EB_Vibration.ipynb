{
 "cells": [
  {
   "cell_type": "code",
   "execution_count": 1,
   "metadata": {},
   "outputs": [],
   "source": [
    "import sympy as sp\n",
    "from IPython.display import Math, Latex\n",
    "from Utilities import *"
   ]
  },
  {
   "cell_type": "code",
   "execution_count": 2,
   "metadata": {},
   "outputs": [],
   "source": [
    "x, y, z = sp.symbols('x y z')\n",
    "t = sp.Symbol('t')\n",
    "\n",
    "E, mu = sp.symbols('E mu')\n",
    "\n",
    "u, v = sp.symbols('u, v')\n",
    "w = sp.Function('w')(x,t)\n",
    "\n",
    "L,h = sp.symbols('L h')\n",
    "b = sp.Symbol('b')\n",
    "q = sp.Function('q')(x)"
   ]
  },
  {
   "cell_type": "markdown",
   "metadata": {},
   "source": [
    "## Displacement Fields-"
   ]
  },
  {
   "cell_type": "code",
   "execution_count": 3,
   "metadata": {},
   "outputs": [
    {
     "data": {
      "text/latex": [
       "$\\displaystyle  u = - z \\frac{\\partial}{\\partial x} w{\\left(x,t \\right)}$"
      ],
      "text/plain": [
       "<IPython.core.display.Math object>"
      ]
     },
     "metadata": {},
     "output_type": "display_data"
    },
    {
     "data": {
      "text/latex": [
       "$\\displaystyle  v = 0$"
      ],
      "text/plain": [
       "<IPython.core.display.Math object>"
      ]
     },
     "metadata": {},
     "output_type": "display_data"
    },
    {
     "data": {
      "text/latex": [
       "$\\displaystyle  w = w(x, t)$"
      ],
      "text/plain": [
       "<IPython.core.display.Math object>"
      ]
     },
     "metadata": {},
     "output_type": "display_data"
    }
   ],
   "source": [
    "u = -z*sp.diff(w,x)\n",
    "v = 0\n",
    "\n",
    "display(Math(r' u = {}'.format(sp.latex(u))))\n",
    "display(Math(r' v = {}'.format(v)))\n",
    "display(Math(r' w = {}'.format(w)))"
   ]
  },
  {
   "cell_type": "markdown",
   "metadata": {},
   "source": [
    "## Strain-Displacement Relation-"
   ]
  },
  {
   "cell_type": "code",
   "execution_count": 4,
   "metadata": {},
   "outputs": [
    {
     "data": {
      "text/latex": [
       "$\\displaystyle  \\epsilon_{xx} = - z \\frac{\\partial^{2}}{\\partial x^{2}} w{\\left(x,t \\right)}$"
      ],
      "text/plain": [
       "<IPython.core.display.Math object>"
      ]
     },
     "metadata": {},
     "output_type": "display_data"
    },
    {
     "data": {
      "text/latex": [
       "$\\displaystyle  \\epsilon_{yy} = 0$"
      ],
      "text/plain": [
       "<IPython.core.display.Math object>"
      ]
     },
     "metadata": {},
     "output_type": "display_data"
    },
    {
     "data": {
      "text/latex": [
       "$\\displaystyle  \\epsilon_{zz} = 0$"
      ],
      "text/plain": [
       "<IPython.core.display.Math object>"
      ]
     },
     "metadata": {},
     "output_type": "display_data"
    },
    {
     "data": {
      "text/latex": [
       "$\\displaystyle  \\epsilon_{xy} = 0$"
      ],
      "text/plain": [
       "<IPython.core.display.Math object>"
      ]
     },
     "metadata": {},
     "output_type": "display_data"
    },
    {
     "data": {
      "text/latex": [
       "$\\displaystyle  \\epsilon_{xz} = 0$"
      ],
      "text/plain": [
       "<IPython.core.display.Math object>"
      ]
     },
     "metadata": {},
     "output_type": "display_data"
    },
    {
     "data": {
      "text/latex": [
       "$\\displaystyle  \\epsilon_{yz} = 0$"
      ],
      "text/plain": [
       "<IPython.core.display.Math object>"
      ]
     },
     "metadata": {},
     "output_type": "display_data"
    }
   ],
   "source": [
    "epsilon_x = strain_x(u)\n",
    "epsilon_y = strain_y(v)\n",
    "epsilon_z = strain_z(w)\n",
    "\n",
    "epsilon_xy= strain_xy(u,v)\n",
    "epsilon_xz= strain_xz(u,w)\n",
    "epsilon_yz= strain_yz(v,w)\n",
    "\n",
    "display(Math(r' \\epsilon_{{xx}} = {}'.format(sp.latex(epsilon_x))))\n",
    "display(Math(r' \\epsilon_{{yy}} = {}'.format(sp.latex(epsilon_y))))\n",
    "display(Math(r' \\epsilon_{{zz}} = {}'.format(sp.latex(epsilon_z))))\n",
    "\n",
    "display(Math(r' \\epsilon_{{xy}} = {}'.format(sp.latex(epsilon_xy))))\n",
    "display(Math(r' \\epsilon_{{xz}} = {}'.format(sp.latex(epsilon_xz))))\n",
    "display(Math(r' \\epsilon_{{yz}} = {}'.format(sp.latex(epsilon_yz))))"
   ]
  },
  {
   "cell_type": "markdown",
   "metadata": {},
   "source": [
    "## Lagrangian Calculation-"
   ]
  },
  {
   "cell_type": "code",
   "execution_count": 5,
   "metadata": {},
   "outputs": [
    {
     "data": {
      "text/latex": [
       "$\\displaystyle  U = 0.5 E I \\int\\limits_{0}^{L} \\left(\\frac{\\partial^{2}}{\\partial x^{2}} w{\\left(x,t \\right)}\\right)^{2}\\, dx$"
      ],
      "text/plain": [
       "<IPython.core.display.Math object>"
      ]
     },
     "metadata": {},
     "output_type": "display_data"
    }
   ],
   "source": [
    "I, A = sp.symbols('I A')\n",
    "\n",
    "sigma_x = stress_x(u);\n",
    "epsilon_x = strain_x(u);\n",
    "\n",
    "U = 1/2*sp.integrate(sp.integrate((sigma_x*epsilon_x*b),(z,-h/2,h/2)),(x,0,L)).doit().expand().subs([(b*h**3/12,I),(b*h,A)])\n",
    "\n",
    "display(Math(r' U = {}'.format(sp.latex(U))))"
   ]
  },
  {
   "cell_type": "code",
   "execution_count": 6,
   "metadata": {},
   "outputs": [
    {
     "data": {
      "text/latex": [
       "$\\displaystyle  T = 0.5 \\mu \\int\\limits_{0}^{L} \\left(\\frac{\\partial}{\\partial t} w{\\left(x,t \\right)}\\right)^{2}\\, dx$"
      ],
      "text/plain": [
       "<IPython.core.display.Math object>"
      ]
     },
     "metadata": {},
     "output_type": "display_data"
    }
   ],
   "source": [
    "T = sp.integrate((1/2*mu*(sp.diff(w,t))**2),(x,0,L))\n",
    "\n",
    "display(Math(r' T = {}'.format(sp.latex(T))))"
   ]
  },
  {
   "cell_type": "code",
   "execution_count": 7,
   "metadata": {},
   "outputs": [
    {
     "data": {
      "text/latex": [
       "$\\displaystyle  L = - 0.5 E I \\int\\limits_{0}^{L} \\left(\\frac{\\partial^{2}}{\\partial x^{2}} w{\\left(x,t \\right)}\\right)^{2}\\, dx + 0.5 \\mu \\int\\limits_{0}^{L} \\left(\\frac{\\partial}{\\partial t} w{\\left(x,t \\right)}\\right)^{2}\\, dx$"
      ],
      "text/plain": [
       "<IPython.core.display.Math object>"
      ]
     },
     "metadata": {},
     "output_type": "display_data"
    }
   ],
   "source": [
    "L = T - U\n",
    "\n",
    "display(Math(r' L = {}'.format(sp.latex(L))))"
   ]
  },
  {
   "cell_type": "markdown",
   "metadata": {},
   "source": [
    "We can define *Lagrangian Density* as $\\hat{L}$ where Lagrangian, $L = \\int_0^L{\\hat{L} dx}$."
   ]
  },
  {
   "cell_type": "code",
   "execution_count": 8,
   "metadata": {},
   "outputs": [
    {
     "data": {
      "text/latex": [
       "$\\displaystyle  \\hat{L} = - 0.5 E I \\left(\\frac{\\partial^{2}}{\\partial x^{2}} w{\\left(x,t \\right)}\\right)^{2} + 0.5 \\mu \\left(\\frac{\\partial}{\\partial t} w{\\left(x,t \\right)}\\right)^{2}$"
      ],
      "text/plain": [
       "<IPython.core.display.Math object>"
      ]
     },
     "metadata": {},
     "output_type": "display_data"
    }
   ],
   "source": [
    "L_den = 1/2*mu*(sp.diff(w,t))**2 - 1/2*sp.integrate((sigma_x*epsilon_x*b),(z,-h/2,h/2)).doit().subs(b*h**3/12,I)\n",
    "\n",
    "display(Math(r' \\hat{{L}} = {}'.format(sp.latex(L_den))))"
   ]
  },
  {
   "cell_type": "markdown",
   "metadata": {},
   "source": [
    "## Governing Differential Equation-"
   ]
  },
  {
   "cell_type": "code",
   "execution_count": 9,
   "metadata": {},
   "outputs": [
    {
     "data": {
      "text/latex": [
       "$\\displaystyle  - 1.0 E I \\frac{\\partial^{4}}{\\partial x^{4}} w{\\left(x,t \\right)} - 1.0 \\mu \\frac{\\partial^{2}}{\\partial t^{2}} w{\\left(x,t \\right)} + q{\\left(x \\right)} = 0$"
      ],
      "text/plain": [
       "<IPython.core.display.Math object>"
      ]
     },
     "metadata": {},
     "output_type": "display_data"
    }
   ],
   "source": [
    "gde = sp.Eq(GovEq(L_den, q)[0], 0)\n",
    "\n",
    "display(Math(r' {}'.format(sp.latex(gde))))"
   ]
  }
 ],
 "metadata": {
  "kernelspec": {
   "display_name": "Python 3",
   "language": "python",
   "name": "python3"
  },
  "language_info": {
   "codemirror_mode": {
    "name": "ipython",
    "version": 3
   },
   "file_extension": ".py",
   "mimetype": "text/x-python",
   "name": "python",
   "nbconvert_exporter": "python",
   "pygments_lexer": "ipython3",
   "version": "3.7.4"
  }
 },
 "nbformat": 4,
 "nbformat_minor": 2
}
