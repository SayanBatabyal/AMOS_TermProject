{
 "cells": [
  {
   "cell_type": "code",
   "execution_count": 1,
   "metadata": {},
   "outputs": [],
   "source": [
    "import sympy as sp\n",
    "from IPython.display import Math, Latex\n",
    "from Utilities import *"
   ]
  },
  {
   "cell_type": "code",
   "execution_count": 2,
   "metadata": {},
   "outputs": [],
   "source": [
    "x, y, z = sp.symbols('x y z')\n",
    "t = sp.Symbol('t')\n",
    "\n",
    "K = sp.Symbol('kappa')\n",
    "us= sp.Function('u_s')(x)\n",
    "phi = sp.Function('phi')(x)\n",
    "E, G = sp.symbols('E G')\n",
    "\n",
    "u, v = sp.symbols('u, v')\n",
    "w = sp.Function('w')(x)\n",
    "\n",
    "L,h = sp.symbols('L h')\n",
    "b = sp.Symbol('b')"
   ]
  },
  {
   "cell_type": "markdown",
   "metadata": {},
   "source": [
    "## Displacement Fields-"
   ]
  },
  {
   "cell_type": "code",
   "execution_count": 3,
   "metadata": {},
   "outputs": [
    {
     "data": {
      "text/latex": [
       "$\\displaystyle  u = - z \\phi{\\left(x \\right)} + \\operatorname{u_{s}}{\\left(x \\right)}$"
      ],
      "text/plain": [
       "<IPython.core.display.Math object>"
      ]
     },
     "metadata": {},
     "output_type": "display_data"
    },
    {
     "data": {
      "text/latex": [
       "$\\displaystyle  v = 0$"
      ],
      "text/plain": [
       "<IPython.core.display.Math object>"
      ]
     },
     "metadata": {},
     "output_type": "display_data"
    },
    {
     "data": {
      "text/latex": [
       "$\\displaystyle  w = w(x)$"
      ],
      "text/plain": [
       "<IPython.core.display.Math object>"
      ]
     },
     "metadata": {},
     "output_type": "display_data"
    }
   ],
   "source": [
    "u = us-z*phi\n",
    "v = 0\n",
    "\n",
    "display(Math(r' u = {}'.format(sp.latex(u))))\n",
    "display(Math(r' v = {}'.format(v)))\n",
    "display(Math(r' w = {}'.format(w)))"
   ]
  },
  {
   "cell_type": "markdown",
   "metadata": {},
   "source": [
    "## Strain-Displacement Relations-"
   ]
  },
  {
   "cell_type": "code",
   "execution_count": 4,
   "metadata": {},
   "outputs": [
    {
     "data": {
      "text/latex": [
       "$\\displaystyle  \\epsilon_{xx} = - z \\frac{d}{d x} \\phi{\\left(x \\right)} + \\frac{d}{d x} \\operatorname{u_{s}}{\\left(x \\right)}$"
      ],
      "text/plain": [
       "<IPython.core.display.Math object>"
      ]
     },
     "metadata": {},
     "output_type": "display_data"
    },
    {
     "data": {
      "text/latex": [
       "$\\displaystyle  \\epsilon_{yy} = 0$"
      ],
      "text/plain": [
       "<IPython.core.display.Math object>"
      ]
     },
     "metadata": {},
     "output_type": "display_data"
    },
    {
     "data": {
      "text/latex": [
       "$\\displaystyle  \\epsilon_{zz} = 0$"
      ],
      "text/plain": [
       "<IPython.core.display.Math object>"
      ]
     },
     "metadata": {},
     "output_type": "display_data"
    },
    {
     "data": {
      "text/latex": [
       "$\\displaystyle  \\epsilon_{xy} = 0$"
      ],
      "text/plain": [
       "<IPython.core.display.Math object>"
      ]
     },
     "metadata": {},
     "output_type": "display_data"
    },
    {
     "data": {
      "text/latex": [
       "$\\displaystyle  \\epsilon_{xz} = - 0.5 \\phi{\\left(x \\right)} + 0.5 \\frac{d}{d x} w{\\left(x \\right)}$"
      ],
      "text/plain": [
       "<IPython.core.display.Math object>"
      ]
     },
     "metadata": {},
     "output_type": "display_data"
    },
    {
     "data": {
      "text/latex": [
       "$\\displaystyle  \\epsilon_{yz} = 0$"
      ],
      "text/plain": [
       "<IPython.core.display.Math object>"
      ]
     },
     "metadata": {},
     "output_type": "display_data"
    }
   ],
   "source": [
    "epsilon_x = strain_x(u)\n",
    "epsilon_y = strain_y(v)\n",
    "epsilon_z = strain_z(w)\n",
    "\n",
    "epsilon_xy= strain_xy(u,v)\n",
    "epsilon_xz= strain_xz(u,w)\n",
    "epsilon_yz= strain_yz(v,w)\n",
    "\n",
    "display(Math(r' \\epsilon_{{xx}} = {}'.format(sp.latex(epsilon_x))))\n",
    "display(Math(r' \\epsilon_{{yy}} = {}'.format(sp.latex(epsilon_y))))\n",
    "display(Math(r' \\epsilon_{{zz}} = {}'.format(sp.latex(epsilon_z))))\n",
    "\n",
    "display(Math(r' \\epsilon_{{xy}} = {}'.format(sp.latex(epsilon_xy))))\n",
    "display(Math(r' \\epsilon_{{xz}} = {}'.format(sp.latex(epsilon_xz))))\n",
    "display(Math(r' \\epsilon_{{yz}} = {}'.format(sp.latex(epsilon_yz))))"
   ]
  },
  {
   "cell_type": "markdown",
   "metadata": {},
   "source": [
    "## Variational Operators-"
   ]
  },
  {
   "cell_type": "code",
   "execution_count": 5,
   "metadata": {},
   "outputs": [
    {
     "data": {
      "text/latex": [
       "$\\displaystyle  \\delta \\epsilon_{xx} = - z \\frac{d}{d x} \\delta \\phi{\\left(x \\right)} + \\frac{d}{d x} \\delta u_{s}{\\left(x \\right)}$"
      ],
      "text/plain": [
       "<IPython.core.display.Math object>"
      ]
     },
     "metadata": {},
     "output_type": "display_data"
    },
    {
     "data": {
      "text/latex": [
       "$\\displaystyle  \\delta \\epsilon_{xz} = - 0.5 \\delta \\phi{\\left(x \\right)} + 0.5 \\frac{d}{d x} \\delta w{\\left(x \\right)}$"
      ],
      "text/plain": [
       "<IPython.core.display.Math object>"
      ]
     },
     "metadata": {},
     "output_type": "display_data"
    },
    {
     "data": {
      "text/latex": [
       "$\\displaystyle  \\sigma_{xx} = E \\left(- z \\frac{d}{d x} \\phi{\\left(x \\right)} + \\frac{d}{d x} \\operatorname{u_{s}}{\\left(x \\right)}\\right)$"
      ],
      "text/plain": [
       "<IPython.core.display.Math object>"
      ]
     },
     "metadata": {},
     "output_type": "display_data"
    },
    {
     "data": {
      "text/latex": [
       "$\\displaystyle  \\sigma_{xz} = 1.0 G K \\left(- \\phi{\\left(x \\right)} + \\frac{d}{d x} w{\\left(x \\right)}\\right)$"
      ],
      "text/plain": [
       "<IPython.core.display.Math object>"
      ]
     },
     "metadata": {},
     "output_type": "display_data"
    }
   ],
   "source": [
    "d_us = sp.Function('\\delta u_s')(x)\n",
    "d_phi = sp.Function('\\delta \\phi')(x)\n",
    "d_w = sp.Function('\\delta w')(x)\n",
    "\n",
    "d_u = d_us - z*d_phi\n",
    "\n",
    "d_epsilon_x = strain_x(d_u)\n",
    "d_epsilon_xz= strain_xz(d_u,d_w)\n",
    "\n",
    "display(Math(r' \\delta \\epsilon_{{xx}} = {}'.format(sp.latex(d_epsilon_x))))\n",
    "display(Math(r' \\delta \\epsilon_{{xz}} = {}'.format(sp.latex(d_epsilon_xz))))\n",
    "\n",
    "sigma_x = stress_x(u)\n",
    "sigma_xz= stress_xz(u,w).simplify()\n",
    "\n",
    "display(Math(r' \\sigma_{{xx}} = {}'.format(sp.latex(sigma_x))))\n",
    "display(Math(r' \\sigma_{{xz}} = {}'.format(sp.latex(sigma_xz))))"
   ]
  },
  {
   "cell_type": "markdown",
   "metadata": {},
   "source": [
    "## Strain Energy-"
   ]
  },
  {
   "cell_type": "code",
   "execution_count": 6,
   "metadata": {},
   "outputs": [
    {
     "data": {
      "text/latex": [
       "$\\displaystyle  \\delta U = A E \\int\\limits_{0}^{L} \\frac{d}{d x} \\delta u_{s}{\\left(x \\right)} \\frac{d}{d x} \\operatorname{u_{s}}{\\left(x \\right)}\\, dx + 1.0 A G K \\left(\\int\\limits_{0}^{L} \\delta \\phi{\\left(x \\right)} \\phi{\\left(x \\right)}\\, dx - \\int\\limits_{0}^{L} \\delta \\phi{\\left(x \\right)} \\frac{d}{d x} w{\\left(x \\right)}\\, dx - \\int\\limits_{0}^{L} \\phi{\\left(x \\right)} \\frac{d}{d x} \\delta w{\\left(x \\right)}\\, dx + \\int\\limits_{0}^{L} \\frac{d}{d x} \\delta w{\\left(x \\right)} \\frac{d}{d x} w{\\left(x \\right)}\\, dx\\right) + E I \\int\\limits_{0}^{L} \\frac{d}{d x} \\delta \\phi{\\left(x \\right)} \\frac{d}{d x} \\phi{\\left(x \\right)}\\, dx$"
      ],
      "text/plain": [
       "<IPython.core.display.Math object>"
      ]
     },
     "metadata": {},
     "output_type": "display_data"
    }
   ],
   "source": [
    "I, A = sp.symbols('I A')\n",
    "\n",
    "d_U_x = sp.integrate(sp.integrate((sigma_x*d_epsilon_x*b),(z,-h/2,h/2)),(x,0,L)).doit().expand().subs([(b*h**3/12,I),(b*h,A)])\n",
    "\n",
    "d_U_xz= sp.integrate(sp.integrate((2*sigma_xz*d_epsilon_xz*b),(z,-h/2,h/2)),(x,0,L)).doit().subs(b*h,A)\n",
    "\n",
    "d_U = d_U_x + d_U_xz\n",
    "\n",
    "display(Math(r' \\delta U = {}'.format(sp.latex(d_U))))"
   ]
  },
  {
   "cell_type": "markdown",
   "metadata": {},
   "source": [
    "We write each term separately for using them to develop the final governing differential equation and the boundary conditions."
   ]
  },
  {
   "cell_type": "code",
   "execution_count": 7,
   "metadata": {},
   "outputs": [
    {
     "data": {
      "text/latex": [
       "$\\displaystyle  Term \\: 1: A E \\int\\limits_{0}^{L} \\frac{d}{d x} \\delta u_{s}{\\left(x \\right)} \\frac{d}{d x} \\operatorname{u_{s}}{\\left(x \\right)}\\, dx$"
      ],
      "text/plain": [
       "<IPython.core.display.Math object>"
      ]
     },
     "metadata": {},
     "output_type": "display_data"
    },
    {
     "data": {
      "text/latex": [
       "$\\displaystyle  Term \\: 2: E I \\int\\limits_{0}^{L} \\frac{d}{d x} \\delta \\phi{\\left(x \\right)} \\frac{d}{d x} \\phi{\\left(x \\right)}\\, dx$"
      ],
      "text/plain": [
       "<IPython.core.display.Math object>"
      ]
     },
     "metadata": {},
     "output_type": "display_data"
    },
    {
     "data": {
      "text/latex": [
       "$\\displaystyle  Term \\: 3: - A G \\kappa \\int\\limits_{0}^{L} \\left(- \\phi{\\left(x \\right)} + \\frac{d}{d x} w{\\left(x \\right)}\\right) \\delta \\phi{\\left(x \\right)}\\, dx$"
      ],
      "text/plain": [
       "<IPython.core.display.Math object>"
      ]
     },
     "metadata": {},
     "output_type": "display_data"
    },
    {
     "data": {
      "text/latex": [
       "$\\displaystyle  Term \\: 4: A G \\kappa \\int\\limits_{0}^{L} \\left(- \\phi{\\left(x \\right)} + \\frac{d}{d x} w{\\left(x \\right)}\\right) \\frac{d}{d x} \\delta w{\\left(x \\right)}\\, dx$"
      ],
      "text/plain": [
       "<IPython.core.display.Math object>"
      ]
     },
     "metadata": {},
     "output_type": "display_data"
    }
   ],
   "source": [
    "term1 = E*A*sp.integrate((sp.diff(d_us)*sp.diff(us)),(x,0,L))\n",
    "term2 = E*I*sp.integrate((sp.diff(d_phi)*sp.diff(phi)),(x,0,L))\n",
    "term3 = -G*A*K*sp.integrate(((-phi+sp.diff(w,x))*d_phi),(x,0,L))\n",
    "term4 = G*A*K*sp.integrate(((-phi+sp.diff(w,x))*sp.diff(d_w,x)),(x,0,L))\n",
    "\n",
    "display(Math(r' Term \\: 1: {}'.format(sp.latex(term1))))\n",
    "display(Math(r' Term \\: 2: {}'.format(sp.latex(term2))))\n",
    "display(Math(r' Term \\: 3: {}'.format(sp.latex(term3))))\n",
    "display(Math(r' Term \\: 4: {}'.format(sp.latex(term4))))"
   ]
  },
  {
   "cell_type": "markdown",
   "metadata": {},
   "source": [
    "Applying Integration by parts on the terms-"
   ]
  },
  {
   "cell_type": "code",
   "execution_count": 8,
   "metadata": {},
   "outputs": [
    {
     "data": {
      "text/latex": [
       "$\\displaystyle  Term \\: 1: A E \\left(- \\delta u_{s}{\\left(0 \\right)} \\left. \\frac{d}{d x} \\operatorname{u_{s}}{\\left(x \\right)} \\right|_{\\substack{ x=0 }} + \\delta u_{s}{\\left(L \\right)} \\frac{d}{d L} \\operatorname{u_{s}}{\\left(L \\right)} - \\int\\limits_{0}^{L} \\delta u_{s}{\\left(x \\right)} \\frac{d^{2}}{d x^{2}} \\operatorname{u_{s}}{\\left(x \\right)}\\, dx\\right)$"
      ],
      "text/plain": [
       "<IPython.core.display.Math object>"
      ]
     },
     "metadata": {},
     "output_type": "display_data"
    },
    {
     "data": {
      "text/latex": [
       "$\\displaystyle  Term \\: 2: E I \\left(- \\delta \\phi{\\left(0 \\right)} \\left. \\frac{d}{d x} \\phi{\\left(x \\right)} \\right|_{\\substack{ x=0 }} + \\delta \\phi{\\left(L \\right)} \\frac{d}{d L} \\phi{\\left(L \\right)} - \\int\\limits_{0}^{L} \\delta \\phi{\\left(x \\right)} \\frac{d^{2}}{d x^{2}} \\phi{\\left(x \\right)}\\, dx\\right)$"
      ],
      "text/plain": [
       "<IPython.core.display.Math object>"
      ]
     },
     "metadata": {},
     "output_type": "display_data"
    },
    {
     "data": {
      "text/latex": [
       "$\\displaystyle  Term \\: 4: A G \\kappa \\left(- \\left(- \\phi{\\left(0 \\right)} + \\left. \\frac{d}{d x} w{\\left(x \\right)} \\right|_{\\substack{ x=0 }}\\right) \\delta w{\\left(0 \\right)} + \\left(- \\phi{\\left(L \\right)} + \\frac{d}{d L} w{\\left(L \\right)}\\right) \\delta w{\\left(L \\right)} + \\int\\limits_{0}^{L} \\delta w{\\left(x \\right)} \\frac{d}{d x} \\phi{\\left(x \\right)}\\, dx + \\int\\limits_{0}^{L} - \\delta w{\\left(x \\right)} \\frac{d^{2}}{d x^{2}} w{\\left(x \\right)}\\, dx\\right)$"
      ],
      "text/plain": [
       "<IPython.core.display.Math object>"
      ]
     },
     "metadata": {},
     "output_type": "display_data"
    }
   ],
   "source": [
    "term1 = E*A*IntByParts(sp.diff(us,x),sp.diff(d_us,x))\n",
    "term2 = E*I*IntByParts(sp.diff(phi,x),sp.diff(d_phi,x))\n",
    "term4 = G*A*K*IntByParts((-phi+sp.diff(w,x)),sp.diff(d_w,x))\n",
    "\n",
    "display(Math(r' Term \\: 1: {}'.format(sp.latex(term1))))\n",
    "display(Math(r' Term \\: 2: {}'.format(sp.latex(term2))))\n",
    "display(Math(r' Term \\: 4: {}'.format(sp.latex(term4))))"
   ]
  },
  {
   "cell_type": "markdown",
   "metadata": {},
   "source": [
    "Finally, the Strain Energy comes out to be-"
   ]
  },
  {
   "cell_type": "code",
   "execution_count": 9,
   "metadata": {},
   "outputs": [
    {
     "data": {
      "text/latex": [
       "$\\displaystyle  \\delta U = - A E \\delta u_{s}{\\left(0 \\right)} \\left. \\frac{d}{d x} \\operatorname{u_{s}}{\\left(x \\right)} \\right|_{\\substack{ x=0 }} + A E \\delta u_{s}{\\left(L \\right)} \\frac{d}{d L} \\operatorname{u_{s}}{\\left(L \\right)} - A E \\int\\limits_{0}^{L} \\delta u_{s}{\\left(x \\right)} \\frac{d^{2}}{d x^{2}} \\operatorname{u_{s}}{\\left(x \\right)}\\, dx + A G \\kappa \\delta w{\\left(0 \\right)} \\phi{\\left(0 \\right)} - A G \\kappa \\delta w{\\left(0 \\right)} \\left. \\frac{d}{d x} w{\\left(x \\right)} \\right|_{\\substack{ x=0 }} - A G \\kappa \\delta w{\\left(L \\right)} \\phi{\\left(L \\right)} + A G \\kappa \\delta w{\\left(L \\right)} \\frac{d}{d L} w{\\left(L \\right)} - A G \\kappa \\int\\limits_{0}^{L} - \\delta \\phi{\\left(x \\right)} \\phi{\\left(x \\right)}\\, dx - A G \\kappa \\int\\limits_{0}^{L} \\delta \\phi{\\left(x \\right)} \\frac{d}{d x} w{\\left(x \\right)}\\, dx + A G \\kappa \\int\\limits_{0}^{L} \\delta w{\\left(x \\right)} \\frac{d}{d x} \\phi{\\left(x \\right)}\\, dx + A G \\kappa \\int\\limits_{0}^{L} - \\delta w{\\left(x \\right)} \\frac{d^{2}}{d x^{2}} w{\\left(x \\right)}\\, dx - E I \\delta \\phi{\\left(0 \\right)} \\left. \\frac{d}{d x} \\phi{\\left(x \\right)} \\right|_{\\substack{ x=0 }} + E I \\delta \\phi{\\left(L \\right)} \\frac{d}{d L} \\phi{\\left(L \\right)} - E I \\int\\limits_{0}^{L} \\delta \\phi{\\left(x \\right)} \\frac{d^{2}}{d x^{2}} \\phi{\\left(x \\right)}\\, dx$"
      ],
      "text/plain": [
       "<IPython.core.display.Math object>"
      ]
     },
     "metadata": {},
     "output_type": "display_data"
    }
   ],
   "source": [
    "d_U = (term1 + term2 + term3 + term4).expand()\n",
    "\n",
    "display(Math(r' \\delta U = {}'.format(sp.latex(d_U))))"
   ]
  },
  {
   "cell_type": "markdown",
   "metadata": {},
   "source": [
    "Till now, we have considered only the internal work done due to bending and stretching. According to *Principle of Virtual Work*, $\\delta W_{ext} + \\delta W_{int} = 0$. So we now look into the external work done, $\\delta W_{ext}$."
   ]
  },
  {
   "cell_type": "code",
   "execution_count": 10,
   "metadata": {},
   "outputs": [
    {
     "data": {
      "text/latex": [
       "$\\displaystyle  \\delta U_{ext} = - P \\delta w{\\left(0 \\right)} + P \\delta w{\\left(L \\right)} + \\int\\limits_{0}^{L} \\delta w{\\left(x \\right)} q{\\left(x \\right)}\\, dx$"
      ],
      "text/plain": [
       "<IPython.core.display.Math object>"
      ]
     },
     "metadata": {},
     "output_type": "display_data"
    }
   ],
   "source": [
    "q = sp.Function('q')(x)\n",
    "P = sp.Symbol('P')\n",
    "\n",
    "d_U_ext = sp.integrate((q*d_w),(x,0,L)) + ((P*d_w).subs(x,L) - (P*d_w).subs(x,0))\n",
    "\n",
    "display(Math(r' \\delta U_{{ext}} = {}'.format(sp.latex(d_U_ext))))"
   ]
  },
  {
   "cell_type": "code",
   "execution_count": 11,
   "metadata": {},
   "outputs": [
    {
     "data": {
      "text/latex": [
       "$\\displaystyle - A E \\delta u_{s}{\\left(0 \\right)} \\left. \\frac{d}{d x} \\operatorname{u_{s}}{\\left(x \\right)} \\right|_{\\substack{ x=0 }} + A E \\delta u_{s}{\\left(L \\right)} \\frac{d}{d L} \\operatorname{u_{s}}{\\left(L \\right)} - A E \\int\\limits_{0}^{L} \\delta u_{s}{\\left(x \\right)} \\frac{d^{2}}{d x^{2}} \\operatorname{u_{s}}{\\left(x \\right)}\\, dx + A G \\kappa \\delta w{\\left(0 \\right)} \\phi{\\left(0 \\right)} - A G \\kappa \\delta w{\\left(0 \\right)} \\left. \\frac{d}{d x} w{\\left(x \\right)} \\right|_{\\substack{ x=0 }} - A G \\kappa \\delta w{\\left(L \\right)} \\phi{\\left(L \\right)} + A G \\kappa \\delta w{\\left(L \\right)} \\frac{d}{d L} w{\\left(L \\right)} - A G \\kappa \\int\\limits_{0}^{L} - \\delta \\phi{\\left(x \\right)} \\phi{\\left(x \\right)}\\, dx - A G \\kappa \\int\\limits_{0}^{L} \\delta \\phi{\\left(x \\right)} \\frac{d}{d x} w{\\left(x \\right)}\\, dx + A G \\kappa \\int\\limits_{0}^{L} \\delta w{\\left(x \\right)} \\frac{d}{d x} \\phi{\\left(x \\right)}\\, dx + A G \\kappa \\int\\limits_{0}^{L} - \\delta w{\\left(x \\right)} \\frac{d^{2}}{d x^{2}} w{\\left(x \\right)}\\, dx - E I \\delta \\phi{\\left(0 \\right)} \\left. \\frac{d}{d x} \\phi{\\left(x \\right)} \\right|_{\\substack{ x=0 }} + E I \\delta \\phi{\\left(L \\right)} \\frac{d}{d L} \\phi{\\left(L \\right)} - E I \\int\\limits_{0}^{L} \\delta \\phi{\\left(x \\right)} \\frac{d^{2}}{d x^{2}} \\phi{\\left(x \\right)}\\, dx + P \\delta w{\\left(0 \\right)} - P \\delta w{\\left(L \\right)} - \\int\\limits_{0}^{L} \\delta w{\\left(x \\right)} q{\\left(x \\right)}\\, dx = 0$"
      ],
      "text/plain": [
       "<IPython.core.display.Math object>"
      ]
     },
     "metadata": {},
     "output_type": "display_data"
    }
   ],
   "source": [
    "eq_lhs = d_U - d_U_ext\n",
    "\n",
    "eq = sp.Eq(eq_lhs, 0)\n",
    "\n",
    "display(Math(r'{}'.format(sp.latex(eq))))"
   ]
  },
  {
   "cell_type": "markdown",
   "metadata": {},
   "source": [
    "The above equation is the final equation from where we can extract the *Governing Differential Equations* and the *Boundary Conditions*. We look for the terms having the same variational coefficient.\n",
    "\n",
    "## Governing Differential Equations-"
   ]
  },
  {
   "cell_type": "code",
   "execution_count": 12,
   "metadata": {},
   "outputs": [
    {
     "data": {
      "text/latex": [
       "$\\displaystyle  gde_1 \\: : A E \\frac{d^{2}}{d x^{2}} \\operatorname{u_{s}}{\\left(x \\right)} = 0$"
      ],
      "text/plain": [
       "<IPython.core.display.Math object>"
      ]
     },
     "metadata": {},
     "output_type": "display_data"
    },
    {
     "data": {
      "text/latex": [
       "$\\displaystyle  gde_2 \\: : A G \\kappa \\left(- \\phi{\\left(x \\right)} + \\frac{d}{d x} w{\\left(x \\right)}\\right) + E I \\frac{d^{2}}{d x^{2}} \\phi{\\left(x \\right)} = 0$"
      ],
      "text/plain": [
       "<IPython.core.display.Math object>"
      ]
     },
     "metadata": {},
     "output_type": "display_data"
    },
    {
     "data": {
      "text/latex": [
       "$\\displaystyle  gde_3 \\: : - A G \\kappa \\left(- \\frac{d}{d x} \\phi{\\left(x \\right)} + \\frac{d^{2}}{d x^{2}} w{\\left(x \\right)}\\right) = q{\\left(x \\right)}$"
      ],
      "text/plain": [
       "<IPython.core.display.Math object>"
      ]
     },
     "metadata": {},
     "output_type": "display_data"
    }
   ],
   "source": [
    "gde1 = sp.Eq(E*A*sp.diff(us,x,2),0)\n",
    "gde2 = sp.Eq(G*A*K*(-phi+sp.diff(w,x))+E*I*sp.diff(phi,x,2),0)\n",
    "gde3 = sp.Eq(-G*A*K*sp.diff((-phi+sp.diff(w,x)),x),q)\n",
    "\n",
    "display(Math(r' gde_1 \\: : {}'.format(sp.latex(gde1))))\n",
    "display(Math(r' gde_2 \\: : {}'.format(sp.latex(gde2))))\n",
    "display(Math(r' gde_3 \\: : {}'.format(sp.latex(gde3))))"
   ]
  },
  {
   "cell_type": "markdown",
   "metadata": {},
   "source": [
    "We can further simplify the *governing differential equations*."
   ]
  },
  {
   "cell_type": "code",
   "execution_count": 13,
   "metadata": {
    "scrolled": true
   },
   "outputs": [
    {
     "data": {
      "text/latex": [
       "$\\displaystyle  gde_1 \\: : A E \\frac{d^{2}}{d x^{2}} \\operatorname{u_{s}}{\\left(x \\right)} = 0$"
      ],
      "text/plain": [
       "<IPython.core.display.Math object>"
      ]
     },
     "metadata": {},
     "output_type": "display_data"
    },
    {
     "data": {
      "text/latex": [
       "$\\displaystyle  gde_2 \\: : \\frac{d}{d x} w{\\left(x \\right)} = \\phi{\\left(x \\right)} - \\frac{E I \\frac{d^{2}}{d x^{2}} \\phi{\\left(x \\right)}}{A G \\kappa}$"
      ],
      "text/plain": [
       "<IPython.core.display.Math object>"
      ]
     },
     "metadata": {},
     "output_type": "display_data"
    },
    {
     "data": {
      "text/latex": [
       "$\\displaystyle  gde_3 \\: : E I \\frac{d^{3}}{d x^{3}} \\phi{\\left(x \\right)} = q{\\left(x \\right)}$"
      ],
      "text/plain": [
       "<IPython.core.display.Math object>"
      ]
     },
     "metadata": {},
     "output_type": "display_data"
    }
   ],
   "source": [
    "gde2_sol = sp.solve(gde2,sp.diff(w,x))\n",
    "gde2_simp = sp.Eq(sp.diff(w,x),gde2_sol[0])\n",
    "gde3_simp = sp.Eq(sp.diff(E*I*sp.diff(phi,x,2),x),q)\n",
    "\n",
    "display(Math(r' gde_1 \\: : {}'.format(sp.latex(gde1))))\n",
    "display(Math(r' gde_2 \\: : {}'.format(sp.latex(gde2_simp))))\n",
    "display(Math(r' gde_3 \\: : {}'.format(sp.latex(gde3_simp))))"
   ]
  },
  {
   "cell_type": "markdown",
   "metadata": {},
   "source": [
    "## Boundary Conditions-"
   ]
  },
  {
   "cell_type": "code",
   "execution_count": 14,
   "metadata": {},
   "outputs": [
    {
     "data": {
      "text/latex": [
       "$\\displaystyle At \\: x=0 \\: and \\: L-$"
      ],
      "text/plain": [
       "<IPython.core.display.Math object>"
      ]
     },
     "metadata": {},
     "output_type": "display_data"
    },
    {
     "data": {
      "text/latex": [
       "$\\displaystyle  Either \\: A E \\frac{d}{d x} \\operatorname{u_{s}}{\\left(x \\right)} + P = 0 \\: or \\: u_s \\: is \\: specified.$"
      ],
      "text/plain": [
       "<IPython.core.display.Math object>"
      ]
     },
     "metadata": {},
     "output_type": "display_data"
    },
    {
     "data": {
      "text/latex": [
       "$\\displaystyle  Either \\: E I \\frac{d}{d x} \\phi{\\left(x \\right)} = 0 \\: or \\: \\phi \\: is \\: specified.$"
      ],
      "text/plain": [
       "<IPython.core.display.Math object>"
      ]
     },
     "metadata": {},
     "output_type": "display_data"
    },
    {
     "data": {
      "text/latex": [
       "$\\displaystyle  Either \\: A G \\kappa \\left(- \\phi{\\left(x \\right)} + \\frac{d}{d x} w{\\left(x \\right)}\\right) = 0 \\: or \\: w \\: is \\: specified.$"
      ],
      "text/plain": [
       "<IPython.core.display.Math object>"
      ]
     },
     "metadata": {},
     "output_type": "display_data"
    }
   ],
   "source": [
    "bc1 = sp.Eq(E*A*sp.diff(us,x)+P,0)\n",
    "bc2 = sp.Eq(E*I*sp.diff(phi,x),0)\n",
    "bc3 = sp.Eq(G*A*K*(-phi+sp.diff(w,x)),0)\n",
    "\n",
    "display(Math(r'At \\: x=0 \\: and \\: L-'))\n",
    "display(Math(r' Either \\: {} \\: or \\: u_s \\: is \\: specified.'.format(sp.latex(bc1))))\n",
    "display(Math(r' Either \\: {} \\: or \\: \\phi \\: is \\: specified.'.format(sp.latex(bc2))))\n",
    "display(Math(r' Either \\: {} \\: or \\: w \\: is \\: specified.'.format(sp.latex(bc3))))"
   ]
  }
 ],
 "metadata": {
  "kernelspec": {
   "display_name": "Python 3",
   "language": "python",
   "name": "python3"
  },
  "language_info": {
   "codemirror_mode": {
    "name": "ipython",
    "version": 3
   },
   "file_extension": ".py",
   "mimetype": "text/x-python",
   "name": "python",
   "nbconvert_exporter": "python",
   "pygments_lexer": "ipython3",
   "version": "3.7.6"
  }
 },
 "nbformat": 4,
 "nbformat_minor": 2
}
