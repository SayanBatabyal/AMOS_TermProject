{
 "cells": [
  {
   "cell_type": "markdown",
   "metadata": {},
   "source": [
    "## Buckling of a beam hinged at both ends\n",
    "\n",
    "Governing differential equations-\n",
    "\n",
    "\\begin{equation}\n",
    "    -P\\frac{d^2w}{dx^2} + GA\\kappa \\left( -\\frac{d\\phi}{dx} + \\frac{d^2w}{dx^2} \\right) = 0 \\\\\n",
    "    EI\\frac{d^2\\phi}{dx^2} + GA\\kappa \\left( -\\phi + \\frac{dw}{dx} \\right) = 0\n",
    "\\end{equation}\n",
    "\n",
    "After simplifying, we get-\n",
    "\n",
    "\\begin{equation}\n",
    "    \\frac{d^4w}{dx^4} + k^2 \\frac{d^2w}{dx^2} = 0\n",
    "\\end{equation}\n",
    "\n",
    "Solving- $w(x) = Acos(kx) + Bsin(kx) + Cx + D$ where A, B, C, D have to be determined from boundary conditions.\n",
    "\n",
    "Also, $k = \\sqrt{\\frac{P/(EI)}{1-P/(GA\\kappa)}}$"
   ]
  },
  {
   "cell_type": "code",
   "execution_count": 1,
   "metadata": {},
   "outputs": [],
   "source": [
    "import sympy as sp\n",
    "from IPython.display import Math, Latex"
   ]
  },
  {
   "cell_type": "code",
   "execution_count": 2,
   "metadata": {},
   "outputs": [],
   "source": [
    "E, I, G, A, K, P, L = sp.symbols('E I G A kappa P L')\n",
    "x = sp.Symbol('x')\n",
    "w = sp.Function('w')(x)\n",
    "phi = sp.Function('phi')(x)\n",
    "c1, c2, c3, c4 = sp.symbols('c_1 c_2 c_3 c_4')"
   ]
  },
  {
   "cell_type": "code",
   "execution_count": 3,
   "metadata": {},
   "outputs": [
    {
     "data": {
      "text/latex": [
       "$\\displaystyle w(x) = c_{1} \\cos{\\left(k x \\right)} + c_{2} \\sin{\\left(k x \\right)} + c_{3} x + c_{4}$"
      ],
      "text/plain": [
       "<IPython.core.display.Math object>"
      ]
     },
     "metadata": {},
     "output_type": "display_data"
    }
   ],
   "source": [
    "k = sp.Symbol('k')\n",
    "\n",
    "w = c1*sp.cos(k*x) + c2*sp.sin(k*x) + c3*x + c4\n",
    "\n",
    "display(Math(r'w(x) = {}'.format(sp.latex(w))))"
   ]
  },
  {
   "cell_type": "code",
   "execution_count": 4,
   "metadata": {},
   "outputs": [
    {
     "data": {
      "text/latex": [
       "$\\displaystyle - A G \\kappa \\frac{d}{d x} \\phi{\\left(x \\right)} + c_{1} \\left(- A G k^{2} \\kappa \\cos{\\left(k x \\right)} + P k^{2} \\cos{\\left(k x \\right)}\\right) + c_{2} \\left(- A G k^{2} \\kappa \\sin{\\left(k x \\right)} + P k^{2} \\sin{\\left(k x \\right)}\\right) = 0$"
      ],
      "text/plain": [
       "<IPython.core.display.Math object>"
      ]
     },
     "metadata": {},
     "output_type": "display_data"
    }
   ],
   "source": [
    "lhs = (-P*sp.diff(w,x,2) + G*A*K*(-sp.diff(phi,x) + sp.diff(w,x,2))).expand().collect(c1).collect(c2)\n",
    "\n",
    "eq1 = sp.Eq(lhs,0)\n",
    "\n",
    "display(Math(r'{}'.format(sp.latex(eq1))))"
   ]
  },
  {
   "cell_type": "code",
   "execution_count": 5,
   "metadata": {},
   "outputs": [
    {
     "data": {
      "text/latex": [
       "$\\displaystyle \\frac{d\\phi}{dx} = c_{1} \\left(- k^{2} \\cos{\\left(k x \\right)} + \\frac{P k^{2} \\cos{\\left(k x \\right)}}{A G \\kappa}\\right) + c_{2} \\left(- k^{2} \\sin{\\left(k x \\right)} + \\frac{P k^{2} \\sin{\\left(k x \\right)}}{A G \\kappa}\\right)$"
      ],
      "text/plain": [
       "<IPython.core.display.Math object>"
      ]
     },
     "metadata": {},
     "output_type": "display_data"
    }
   ],
   "source": [
    "dphidx = (sp.solve(eq1,sp.diff(phi,x))[0]).expand().collect(c1).collect(c2)\n",
    "\n",
    "display(Math(r'\\frac{{d\\phi}}{{dx}} = {}'.format(sp.latex(dphidx))))"
   ]
  },
  {
   "cell_type": "markdown",
   "metadata": {},
   "source": [
    "Putting on the boundary conditions in the above two equation yields-"
   ]
  },
  {
   "cell_type": "code",
   "execution_count": 6,
   "metadata": {},
   "outputs": [
    {
     "data": {
      "text/latex": [
       "$\\displaystyle BC_1: c_{1} + c_{4} = 0$"
      ],
      "text/plain": [
       "<IPython.core.display.Math object>"
      ]
     },
     "metadata": {},
     "output_type": "display_data"
    },
    {
     "data": {
      "text/latex": [
       "$\\displaystyle BC_2: L c_{3} + c_{1} \\cos{\\left(L k \\right)} + c_{2} \\sin{\\left(L k \\right)} + c_{4} = 0$"
      ],
      "text/plain": [
       "<IPython.core.display.Math object>"
      ]
     },
     "metadata": {},
     "output_type": "display_data"
    },
    {
     "data": {
      "text/latex": [
       "$\\displaystyle BC_3: c_{1} \\left(- k^{2} + \\frac{P k^{2}}{A G \\kappa}\\right) = 0$"
      ],
      "text/plain": [
       "<IPython.core.display.Math object>"
      ]
     },
     "metadata": {},
     "output_type": "display_data"
    },
    {
     "data": {
      "text/latex": [
       "$\\displaystyle BC_4: c_{1} \\left(- k^{2} \\cos{\\left(L k \\right)} + \\frac{P k^{2} \\cos{\\left(L k \\right)}}{A G \\kappa}\\right) + c_{2} \\left(- k^{2} \\sin{\\left(L k \\right)} + \\frac{P k^{2} \\sin{\\left(L k \\right)}}{A G \\kappa}\\right) = 0$"
      ],
      "text/plain": [
       "<IPython.core.display.Math object>"
      ]
     },
     "metadata": {},
     "output_type": "display_data"
    }
   ],
   "source": [
    "bc1 = sp.Eq(w.subs(x,0),0)\n",
    "bc2 = sp.Eq(w.subs(x,L),0)\n",
    "bc3 = sp.Eq(dphidx.subs(x,0),0)\n",
    "bc4 = sp.Eq(dphidx.subs(x,L),0)\n",
    "\n",
    "display(Math(r'BC_1: {}'.format(sp.latex(bc1))))\n",
    "display(Math(r'BC_2: {}'.format(sp.latex(bc2))))\n",
    "display(Math(r'BC_3: {}'.format(sp.latex(bc3))))\n",
    "display(Math(r'BC_4: {}'.format(sp.latex(bc4))))"
   ]
  },
  {
   "cell_type": "code",
   "execution_count": 7,
   "metadata": {},
   "outputs": [
    {
     "data": {
      "text/latex": [
       "$\\displaystyle \\left[\\begin{matrix}1 & 0 & 0 & 1\\\\\\cos{\\left(L k \\right)} & \\sin{\\left(L k \\right)} & L & 1\\\\- k^{2} + \\frac{P k^{2}}{A G \\kappa} & 0 & 0 & 0\\\\- k^{2} \\cos{\\left(L k \\right)} + \\frac{P k^{2} \\cos{\\left(L k \\right)}}{A G \\kappa} & - k^{2} \\sin{\\left(L k \\right)} + \\frac{P k^{2} \\sin{\\left(L k \\right)}}{A G \\kappa} & 0 & 0\\end{matrix}\\right]$"
      ],
      "text/plain": [
       "<IPython.core.display.Math object>"
      ]
     },
     "metadata": {},
     "output_type": "display_data"
    }
   ],
   "source": [
    "mat = sp.linear_eq_to_matrix([bc1,bc2,bc3,bc4],[c1,c2,c3,c4])[0]\n",
    "\n",
    "display(Math(r'{}'.format(sp.latex(mat))))"
   ]
  },
  {
   "cell_type": "markdown",
   "metadata": {},
   "source": [
    "For non-trivial solution, determinant of the above matrix must be 0. So-"
   ]
  },
  {
   "cell_type": "code",
   "execution_count": 14,
   "metadata": {},
   "outputs": [
    {
     "data": {
      "text/latex": [
       "$\\displaystyle \\frac{L k^{4} \\left(- A^{2} G^{2} \\kappa^{2} + 2 A G P \\kappa - P^{2}\\right) \\sin{\\left(L k \\right)}}{A^{2} G^{2} \\kappa^{2}} = 0$"
      ],
      "text/plain": [
       "<IPython.core.display.Math object>"
      ]
     },
     "metadata": {},
     "output_type": "display_data"
    }
   ],
   "source": [
    "det = (sp.det(mat)).simplify()\n",
    "\n",
    "display(Math(r'{} = 0'.format(sp.latex(det))))"
   ]
  },
  {
   "cell_type": "markdown",
   "metadata": {},
   "source": [
    "Solving yields: $kL = n\\pi$, which can further be simplified."
   ]
  },
  {
   "cell_type": "code",
   "execution_count": 9,
   "metadata": {},
   "outputs": [
    {
     "data": {
      "text/latex": [
       "$\\displaystyle L \\sqrt{\\frac{P}{E I \\left(1 - \\frac{P}{A G \\kappa}\\right)}} = \\pi n$"
      ],
      "text/plain": [
       "Eq(L*sqrt(P/(E*I*(1 - P/(A*G*kappa)))), pi*n)"
      ]
     },
     "execution_count": 9,
     "metadata": {},
     "output_type": "execute_result"
    }
   ],
   "source": [
    "n = sp.Symbol('n')\n",
    "\n",
    "mod_eq = sp.Eq(L*k,n*sp.pi)\n",
    "mod_eq = sp.Eq(mod_eq.lhs.subs(k,sp.sqrt((P/(E*I))/(1-P/(G*A*K)))),n*sp.pi)\n",
    "\n",
    "mod_eq"
   ]
  },
  {
   "cell_type": "code",
   "execution_count": 10,
   "metadata": {},
   "outputs": [
    {
     "data": {
      "text/latex": [
       "$\\displaystyle P_{cr} = \\frac{\\pi^{2} n^{2}}{L^{2} \\left(\\frac{1}{E I} + \\frac{\\pi^{2} n^{2}}{A G L^{2} \\kappa}\\right)}$"
      ],
      "text/plain": [
       "<IPython.core.display.Math object>"
      ]
     },
     "metadata": {},
     "output_type": "display_data"
    }
   ],
   "source": [
    "P_cr = sp.solve(mod_eq,P)[0]\n",
    "\n",
    "P_cr = (n**2*sp.pi**2/L**2)/((1/(E*I))+(n**2*sp.pi**2/L**2)*(1/(G*A*K)))\n",
    "\n",
    "display(Math(r'P_{{cr}} = {}'.format(sp.latex(P_cr))))"
   ]
  },
  {
   "cell_type": "markdown",
   "metadata": {},
   "source": [
    "Taking the ratio between the critical load obtained using Timoshenko beam theory and the critical load obtained using Euler-Bernoulli beam theory."
   ]
  },
  {
   "cell_type": "code",
   "execution_count": 11,
   "metadata": {},
   "outputs": [
    {
     "data": {
      "text/latex": [
       "$\\displaystyle \\frac{P_{cr,timo}}{P_{cr,euler}} = \\frac{A G L^{2} \\kappa}{A G L^{2} \\kappa + \\pi^{2} E I n^{2}}$"
      ],
      "text/plain": [
       "<IPython.core.display.Math object>"
      ]
     },
     "metadata": {},
     "output_type": "display_data"
    }
   ],
   "source": [
    "P_cr_euler = n**2*sp.pi**2*E*I/L**2\n",
    "\n",
    "ratio = (P_cr/P_cr_euler).simplify()\n",
    "\n",
    "display(Math(r'\\frac{{P_{{cr,timo}}}}{{P_{{cr,euler}}}} = {}'.format(sp.latex(ratio))))"
   ]
  },
  {
   "cell_type": "code",
   "execution_count": 13,
   "metadata": {},
   "outputs": [
    {
     "data": {
      "text/latex": [
       "$\\displaystyle \\frac{P_{cr,timo}}{P_{cr,euler}} = \\frac{1}{1 + \\frac{\\pi^{2} E I n^{2}}{A G L^{2} \\kappa}} < 1$"
      ],
      "text/plain": [
       "<IPython.core.display.Math object>"
      ]
     },
     "metadata": {},
     "output_type": "display_data"
    }
   ],
   "source": [
    "ratio_mod = 1/(1 + (n*sp.pi/L)**2*(E*I/(G*A*K)))\n",
    "\n",
    "display(Math(r'\\frac{{P_{{cr,timo}}}}{{P_{{cr,euler}}}} = {} < 1'.format(sp.latex(ratio_mod))))"
   ]
  }
 ],
 "metadata": {
  "kernelspec": {
   "display_name": "Python 3",
   "language": "python",
   "name": "python3"
  },
  "language_info": {
   "codemirror_mode": {
    "name": "ipython",
    "version": 3
   },
   "file_extension": ".py",
   "mimetype": "text/x-python",
   "name": "python",
   "nbconvert_exporter": "python",
   "pygments_lexer": "ipython3",
   "version": "3.7.6"
  }
 },
 "nbformat": 4,
 "nbformat_minor": 2
}
